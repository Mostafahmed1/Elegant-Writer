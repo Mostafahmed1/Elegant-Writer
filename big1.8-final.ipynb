{
  "cells": [
    {
      "cell_type": "markdown",
      "metadata": {
        "id": "K-nRZ2X6XlWf"
      },
      "source": [
        "# environment setup"
      ]
    },
    {
      "cell_type": "code",
      "execution_count": 28,
      "metadata": {
        "colab": {
          "base_uri": "https://localhost:8080/"
        },
        "id": "siq6sSXWTwB8",
        "outputId": "ea2ca5bb-71a7-4a7e-dbe5-50cc0e221d75"
      },
      "outputs": [],
      "source": [
        "# !pip install langchain\n",
        "# !pip install langchain-openai\n",
        "# !pip install openai\n",
        "# ! pip install langchain-chroma\n",
        "import os\n",
        "os.environ['OPENAI_API_KEY']= #your secret key\n",
        "\n",
        "path='E:/FCSE/3. big data lab/lab project/lol.json'\n",
        "pathtocompany = \"E:/FCSE/3. big data lab/lab project/companies.csv\"\n",
        "db_dir=\"E:/FCSE/3. big data lab/lab project/Chroma_DB\"\n",
        "# pathtocompany = \"/content/companies.csv\"\n",
        "# db_dir=\"/content/Chroma_DB\""
      ]
    },
    {
      "cell_type": "markdown",
      "metadata": {
        "id": "FdIm7DvPXlWi"
      },
      "source": [
        "# imports and global codes"
      ]
    },
    {
      "cell_type": "code",
      "execution_count": 29,
      "metadata": {
        "id": "xxbbyTzbTwB9"
      },
      "outputs": [],
      "source": [
        "from langchain_openai import OpenAI\n",
        "from langchain.prompts.prompt import PromptTemplate\n",
        "from langchain.prompts.few_shot import FewShotPromptTemplate\n",
        "from langchain.output_parsers import PydanticOutputParser\n",
        "from pydantic import BaseModel,Field\n",
        "\n",
        "from langchain.memory.prompt import ENTITY_MEMORY_CONVERSATION_TEMPLATE\n",
        "from langchain.memory import ConversationEntityMemory\n",
        "from langchain.memory import ConversationBufferWindowMemory,ChatMessageHistory\n",
        "from langchain.chains import ConversationChain\n",
        "from langchain.schema import messages_from_dict, messages_to_dict\n",
        "import json\n",
        "import pandas as pd\n",
        "from typing import Literal \n",
        "from langchain_core.prompts import ChatPromptTemplate \n",
        "from langchain_core.pydantic_v1 import BaseModel, Field \n",
        "from langchain_openai import ChatOpenAI \n",
        "from langchain_community.document_loaders import DataFrameLoader\n",
        "from langchain_openai import OpenAIEmbeddings\n",
        "from langchain_chroma import Chroma"
      ]
    },
    {
      "cell_type": "code",
      "execution_count": 30,
      "metadata": {
        "id": "_SuQq5BTXlWj"
      },
      "outputs": [],
      "source": [
        "llm=OpenAI()"
      ]
    },
    {
      "cell_type": "markdown",
      "metadata": {
        "id": "Ioag_l7HXlWj"
      },
      "source": [
        "# output parser"
      ]
    },
    {
      "cell_type": "code",
      "execution_count": 31,
      "metadata": {
        "id": "q0j8u30KXlWj"
      },
      "outputs": [],
      "source": [
        "class Email(BaseModel):\n",
        "    from_email: str = Field(description=\"The email address of the sender\")\n",
        "    to_email: str = Field(description=\"The email address of the recipient\")\n",
        "    subject: str = Field(description=\"The subject of the email\")\n",
        "    body: str = Field(description=\"The body of the email\")\n",
        "parser=PydanticOutputParser(pydantic_object=Email)"
      ]
    },
    {
      "cell_type": "markdown",
      "metadata": {
        "id": "0llYfVv2XlWj"
      },
      "source": [
        "# templates"
      ]
    },
    {
      "cell_type": "code",
      "execution_count": 32,
      "metadata": {
        "id": "tEFjnc3yTwB-"
      },
      "outputs": [],
      "source": [
        "# add template for cover letters\n",
        "\n",
        "correctingTemp=PromptTemplate(template=\"enhance this email with this subject:'{subject}' body:\\n'{body}' to make it more professional don't change the meaning of the email or length too much\"\n",
        "                              ,input_variables=['subject','body']\n",
        "                              )\n",
        "#specify the length of the email and email of sender add the mail tag\n",
        "writingFromScratchTemp=PromptTemplate(template=\"write a professional email with this subject:{subject} to {Temail} from {femail} with sender:{sender} reciver:{reciver}\\n{format_instructions}\"\n",
        "                                      ,input_variables=['subject','Temail','femail','sender','reciver']\n",
        "                                      ,partial_variables={'format_instructions':parser.get_format_instructions()})\n",
        "coverLetterTemp=PromptTemplate(template=\"write a cover letter for the job of {job} at {company} with sender: {name} and from email {fmail} to {Tmail} \\n{format_instructions}\"\n",
        "                                ,input_variables=['job','company','name','fmail','Tmail']\n",
        "                                ,partial_variables={'format_instructions':parser.get_format_instructions()})\n",
        "changeorsetupmeetingTemp=PromptTemplate(template=\"write an email to {Temail} from {femail} with subject:{subject} to setup or change a meeting time at {date}\\n{format_instructions}\"\n",
        "                                        ,input_variables=['Temail','femail','subject','date']\n",
        "                                        ,partial_variables={'format_instructions':parser.get_format_instructions()})\n",
        "example_prompt = PromptTemplate(input_variables=[\"example\"],\n",
        "template=\"example Written by me: {example}\")\n",
        "\n"
      ]
    },
    {
      "cell_type": "markdown",
      "metadata": {
        "id": "GpC5ih0kXlWk"
      },
      "source": [
        "# Templates examples"
      ]
    },
    {
      "cell_type": "code",
      "execution_count": 33,
      "metadata": {
        "id": "oJfYXDzRXlWk",
        "outputId": "bf4ce1a2-0249-4d68-ba04-698b3133d97f"
      },
      "outputs": [],
      "source": [
        "# usersubject='changing the meeting time'\n",
        "# userbody=\"\"\"dear all,\n",
        "# I am writing to inform you that the meeting time has been changed to 3pm.\n",
        "# I hope this time is convenient for everyone.\n",
        "# Best,\n",
        "# John\"\"\"\n",
        "# correctedmail=correctingTemp.format(subject=usersubject,body=userbody)\n",
        "# # print(correctedmail)\n",
        "# correctedMailResponse=llm.invoke(correctedmail)\n",
        "# print(correctedMailResponse)"
      ]
    },
    {
      "cell_type": "code",
      "execution_count": 34,
      "metadata": {
        "id": "D4yI7R5ZXlWl",
        "outputId": "c06ba53c-12e5-4def-95fa-d21d79b9de08"
      },
      "outputs": [],
      "source": [
        "# # Your code goes here\n",
        "# usersubject='changing the meeting time'\n",
        "# Tomail='mostafa@lol.com'\n",
        "# fmail='assem@lol.com'\n",
        "# sender='assem'\n",
        "# reciver='mostafa'\n",
        "# newmail=writingFromScratchTemp.format(subject=usersubject,Temail=Tomail,femail=fmail,sender=sender,reciver=reciver)\n",
        "# # print(newmail)fMail\n",
        "# newMailResponse=llm.invoke(newmail)\n",
        "# parsedouput=parser.parse(newMailResponse)\n",
        "# print(parsedouput.body)"
      ]
    },
    {
      "cell_type": "code",
      "execution_count": 35,
      "metadata": {
        "id": "3wgsE6oFXlWl",
        "outputId": "cc2b61cb-4caa-48b1-d612-4bfca49b965c"
      },
      "outputs": [],
      "source": [
        "# #test cover letter template\n",
        "# job='Data Scientist'\n",
        "# company='Google'\n",
        "# name='Assem'\n",
        "# fmail='assem@lol.com'\n",
        "# tmail='gog@lol.com'\n",
        "# coverLetter=coverLetterTemp.format(job=job,company=company,name=name,fmail=fmail,Tmail=tmail)\n",
        "# coverLetterResponse=llm.invoke(coverLetter)\n",
        "# parsedouput=parser.parse(coverLetterResponse)\n",
        "# print(parsedouput.body)"
      ]
    },
    {
      "cell_type": "code",
      "execution_count": 36,
      "metadata": {
        "id": "QIpLB7fsXlWl",
        "outputId": "6ac94e73-a6f7-4acd-c069-b74dd735e30e"
      },
      "outputs": [],
      "source": [
        "# #test change or setup meeting template\n",
        "# usersubject='changing the deep learning discussion time'\n",
        "# tmail='assem@lol.com'\n",
        "# fmail='mostafa@lol.com'\n",
        "# date='tomorrow at 9 pm'\n",
        "# changeMeeting=changeorsetupmeetingTemp.format(Temail=tmail,femail=fmail,subject=usersubject,date=date)\n",
        "# changeMeetingResponse=llm.invoke(changeMeeting)\n",
        "# # print(changeMeetingResponse)\n",
        "# parsedouput=parser.parse(changeMeetingResponse)\n",
        "# print(parsedouput.body)"
      ]
    },
    {
      "cell_type": "markdown",
      "metadata": {
        "id": "TGX6R7k4TwB_"
      },
      "source": [
        "# fewshot learning\n"
      ]
    },
    {
      "cell_type": "code",
      "execution_count": 37,
      "metadata": {
        "id": "YFr2F4O4XlWm"
      },
      "outputs": [],
      "source": [
        "coverLetterTemp2=PromptTemplate(template=\"write a cover letter for the job of {job} at {company} with sender: {name} and from email {fmail} to {Tmail} email: \\n{format_instructions}\"\n",
        "                                ,input_variables=['job','company','name','fmail','Tmail']\n",
        "                                ,partial_variables={'format_instructions':parser.get_format_instructions()})"
      ]
    },
    {
      "cell_type": "code",
      "execution_count": 38,
      "metadata": {
        "id": "hCC1XTF5XlWm"
      },
      "outputs": [],
      "source": [
        "# \"\"\"\n",
        "# Dear  kliver,\n",
        "\n",
        "# I am rising senior pursuing my Computer science degree at Cairo university\\n, and I am thrilled to express my strong interest in\\n the Summer Internship Program at Klivvr. With expertise in programming languages such as Java and Python, along with a track record of academic excellence and the drive to make a meaningful impact, I am confident in my ability to contribute to Klivvr's innovative FinTech initiatives. I look forward to the opportunity to discuss further how my qualifications align with Klivvr's objectives. Thank you for considering my application.\n",
        "\n",
        "# Sincerely,\n",
        "\n",
        "# Assem Ihab\n",
        "# \"\"\"\n",
        "# # examplesN=int(input('Enter the number of examples you want: '))\n",
        "# examplesN=2\n",
        "# examples=[]\n",
        "\n",
        "# for i in range(examplesN):\n",
        "#     email = input(\"paste your email\")\n",
        "#     example = {\n",
        "#         'example': email,\n",
        "#     }\n",
        "#     examples.append(example)\n",
        "# # print(examples)\n",
        "# example_prompt = PromptTemplate(input_variables=[\"example\"],\n",
        "# template=\"example Written by me: {example}\")\n",
        "# covershotprompt = FewShotPromptTemplate(\n",
        "#     examples=examples,\n",
        "#     example_prompt=example_prompt,\n",
        "#     suffix=\"write a cover letter for the job of {job} at company: {company} with reciver:{reciver} and sender:{sender} and  and from email {fmail} to {Tmail} \\n{format_instructions}\",\n",
        "#     input_variables=[\"input\"],\n",
        "#     partial_variables={'format_instructions':parser.get_format_instructions()}\n",
        "# )\n"
      ]
    },
    {
      "cell_type": "markdown",
      "metadata": {
        "id": "IIbifRnKXlWm"
      },
      "source": [
        "# testing few shot temps"
      ]
    },
    {
      "cell_type": "code",
      "execution_count": 39,
      "metadata": {
        "id": "jxVHGGc4XlWm",
        "outputId": "e932e21c-287d-4203-aaed-8f870e45e0cb"
      },
      "outputs": [],
      "source": [
        "# covermessage=covershotprompt.format(job=job,company=company,sender=name,fmail=fmail,Tmail=tmail,reciver='google')\n",
        "# # print(covermessage)\n",
        "# covermessageResponse=llm.invoke(covermessage)\n",
        "# parsedouput=parser.parse(covermessageResponse)\n",
        "# print(parsedouput.body)"
      ]
    },
    {
      "cell_type": "markdown",
      "metadata": {
        "id": "U_txzcJdXlWm"
      },
      "source": [
        "# memory"
      ]
    },
    {
      "cell_type": "code",
      "execution_count": 40,
      "metadata": {
        "id": "EQ68OaTYXlWm"
      },
      "outputs": [],
      "source": [
        "secondClettertemp=PromptTemplate(template=\"base on previous mails write a cover letter for the job of {job} at {company} with reciver:{reciver} and sender:{sender}  \"\n",
        "                                ,input_variables=['job','company','reciver','sender'])\n",
        "modifyMailTemp=PromptTemplate(template='modify and resend this the last email where the part to be modified is: \"{part}\" to be {new_part}',\n",
        "                              input_variables=['part','new_part'],\n",
        "                              format_instructions=parser.get_format_instructions()\n",
        "                              )\n",
        "coverConversation=ConversationChain(\n",
        "llm=llm,\n",
        "memory=ConversationBufferWindowMemory(k=4),\n",
        "verbose=False\n",
        ")"
      ]
    },
    {
      "cell_type": "markdown",
      "metadata": {
        "id": "kMs02qrgXlWm"
      },
      "source": [
        "Test conversation"
      ]
    },
    {
      "cell_type": "code",
      "execution_count": 41,
      "metadata": {
        "id": "q3O9G49-XlWn",
        "outputId": "7b5eb9d5-8033-4dbd-a63c-b9fad025ffbb"
      },
      "outputs": [],
      "source": [
        "# prompt1=covermessage\n",
        "# prompt2=secondClettertemp.format(job='powerbi analyst',company='Halan',reciver='Halan',sender=name)\n",
        "# prompt3=secondClettertemp.format(job='Data crakere',company='cornhub',reciver='cornhub',sender=name)\n",
        "# prompt4=modifyMailTemp.format(part='in the Data Cracker position',new_part='in the data mother position at lolhub')\n",
        "# response1=coverConversation.predict(input=prompt1)\n",
        "# print('_________________________')\n",
        "# print(response1)\n",
        "# print('_________________________')\n",
        "# response2=coverConversation.predict(input=prompt2)\n",
        "# print(response2)\n",
        "# print('_________________________')\n",
        "# response3=coverConversation.predict(input=prompt3)\n",
        "# print(response3)\n",
        "# print('_________________________')\n",
        "# response4=coverConversation.predict(input=prompt4)\n",
        "# print(response4)\n",
        "\n"
      ]
    },
    {
      "cell_type": "code",
      "execution_count": 42,
      "metadata": {
        "id": "A8-spmfBXlWn"
      },
      "outputs": [],
      "source": [
        "# messagesdict=messages_to_dict(coverConversation.memory.chat_memory.messages)\n",
        "\n",
        "# try:\n",
        "#     with open(path, 'a') as destination_file:\n",
        "#         destination_file.write(json.dumps(messagesdict))\n",
        "# except Exception as e:\n",
        "#     print(f\"An error occurred: {e}\")\n",
        "\n",
        "\n",
        "\n",
        "\n"
      ]
    },
    {
      "cell_type": "code",
      "execution_count": 43,
      "metadata": {
        "id": "bqM41HfbXlWn"
      },
      "outputs": [],
      "source": [
        "# with open(path) as source_file:\n",
        "#       saved_memory=json.loads(source_file.read())\n",
        "\n",
        "# history=ChatMessageHistory()\n",
        "# history.messages=messages_from_dict(saved_memory)"
      ]
    },
    {
      "cell_type": "code",
      "execution_count": 44,
      "metadata": {
        "id": "kQa09DytXlWn",
        "outputId": "75e5295f-2627-4291-f035-6ff7ca0a81aa"
      },
      "outputs": [],
      "source": [
        "# history.messages"
      ]
    },
    {
      "cell_type": "code",
      "execution_count": 45,
      "metadata": {
        "id": "WC1CL3frXlWn"
      },
      "outputs": [],
      "source": [
        "# memory=ConversationBufferWindowMemory(k=4,chat_memory=history)\n",
        "# coverConversation.memory=memory\n"
      ]
    },
    {
      "cell_type": "markdown",
      "metadata": {
        "id": "yZTYnHwEXlWn"
      },
      "source": [
        "# using rag"
      ]
    },
    {
      "cell_type": "code",
      "execution_count": 46,
      "metadata": {
        "colab": {
          "base_uri": "https://localhost:8080/",
          "height": 620
        },
        "id": "v_qj58NyXlWn",
        "outputId": "4b61831d-7e31-4baf-b34f-e3b2b8d742d7"
      },
      "outputs": [],
      "source": [
        "\n",
        "\n",
        "# # # pathtocompany='E:/FCSE/3. big data lab/lab project/companies.csv'\n",
        "\n",
        "# companiesdf = pd.read_csv(pathtocompany)\n",
        "# exclude_columns = ['Company', 'Company Name for Emails']\n",
        "# companies_info = [col for col in companiesdf.columns if col not in exclude_columns]\n",
        "\n",
        "# companiesdf.head()"
      ]
    },
    {
      "cell_type": "code",
      "execution_count": 47,
      "metadata": {
        "id": "6VgqAWwsXlWo"
      },
      "outputs": [],
      "source": [
        "# loader = DataFrameLoader(companiesdf, page_content_column=\"Company\")\n",
        "# companies_data=loader.load()"
      ]
    },
    {
      "cell_type": "code",
      "execution_count": 48,
      "metadata": {
        "colab": {
          "base_uri": "https://localhost:8080/"
        },
        "id": "pjBN7-TOxtWZ",
        "outputId": "e7318875-9f5b-4556-fd79-50fa8aa3e80c"
      },
      "outputs": [],
      "source": [
        "# companies_data[0]"
      ]
    },
    {
      "cell_type": "code",
      "execution_count": 49,
      "metadata": {
        "colab": {
          "base_uri": "https://localhost:8080/"
        },
        "id": "mvVBAKYBoLb1",
        "outputId": "37da6966-aece-456f-83a0-7fa186b84bfc"
      },
      "outputs": [],
      "source": [
        "# list( companies_data[0] )"
      ]
    },
    {
      "cell_type": "code",
      "execution_count": 50,
      "metadata": {
        "id": "wJFQdbviAm2r"
      },
      "outputs": [],
      "source": [
        "# # \n",
        "\n",
        "# embeddings_model = OpenAIEmbeddings()\n",
        "\n",
        "#  #Get the data of the all chunks and emedding them\n",
        "# docs_chunks = [chunk.page_content for chunk in companies_data ]\n",
        "# docs_embeddings = embeddings_model.embed_documents(docs_chunks)"
      ]
    },
    {
      "cell_type": "code",
      "execution_count": 51,
      "metadata": {
        "colab": {
          "base_uri": "https://localhost:8080/"
        },
        "id": "q4Q0PRiCBVdB",
        "outputId": "daa5df30-5f78-485e-f773-94275baf83ec"
      },
      "outputs": [],
      "source": [
        "# len(companies_data)"
      ]
    },
    {
      "cell_type": "code",
      "execution_count": 52,
      "metadata": {
        "id": "9C2FVc0FBDii"
      },
      "outputs": [],
      "source": [
        "# \n",
        "\n",
        "# db_dir=\"/content/Chroma_DB\"\n",
        "\n",
        "#generate Ids for each chunck note:IDs must be string\n",
        "# chunks_IDs= [str(id) for id in (list(range(len(companies_data))))]\n",
        "# chroma_db= Chroma.from_documents(companies_data,\n",
        "#                                  embeddings_model,\n",
        "#                                  ids=chunks_IDs,\n",
        "#                                  persist_directory=db_dir)"
      ]
    },
    {
      "cell_type": "code",
      "execution_count": 53,
      "metadata": {
        "id": "00zXdA6VBdpC"
      },
      "outputs": [],
      "source": [
        "embeddings_model = OpenAIEmbeddings()\n",
        "loaded_vector_db = Chroma(\n",
        "    persist_directory=db_dir,\n",
        "    embedding_function=embeddings_model\n",
        ")"
      ]
    },
    {
      "cell_type": "code",
      "execution_count": null,
      "metadata": {},
      "outputs": [],
      "source": [
        "# user_input = \"I recently had a great experience with Hassan Allam Holding company. I wonder what does their Annual Revenue?.\"\n",
        "# similar_docs = loaded_vector_db.similarity_search(user_input)\n",
        "# similar_docs[0].metadata"
      ]
    },
    {
      "cell_type": "code",
      "execution_count": 55,
      "metadata": {
        "colab": {
          "base_uri": "https://localhost:8080/",
          "height": 35
        },
        "id": "Mysq1saJBh5k",
        "outputId": "7210bbe2-4869-49f5-82fa-5f3a098a369b"
      },
      "outputs": [],
      "source": [
        "def extract_company_info(metadata ,userinput):\n",
        "    if len(coverConversation.memory.chat_memory.messages)==0:\n",
        "        \n",
        "      prompt_template = PromptTemplate.from_template(\n",
        "        \"Extract only the wanted info from the following dictionary:{anydata} that match the user needs ({needs}) \"\n",
        "      )\n",
        "      string_prompt_message=prompt_template.format(anydata=metadata ,needs=userinput )\n",
        "\n",
        "    elif len(coverConversation.memory.chat_memory.messages)>4:\n",
        "      coverConversation.memory.clear()\n",
        "      prompt_template = PromptTemplate.from_template(\n",
        "        \"Extract only the wanted info from the following dictionary:{anydata} that match the user needs ({needs}) \"\n",
        "      )\n",
        "      string_prompt_message=prompt_template.format(anydata=metadata ,needs=userinput )\n",
        "    else:\n",
        "      prompt_template = PromptTemplate.from_template(\n",
        "        \"Extract only the wanted info from the previous dictionary that match the user needs ({needs}) \"\n",
        "      )\n",
        "      # update the templete with new wanted info\n",
        "      string_prompt_message=prompt_template.format( needs=userinput )\n",
        "\n",
        "    # in all cases we feed the memory by the first or new requested info.\n",
        "    company_info = coverConversation.predict(input=string_prompt_message)\n",
        "\n",
        "    return company_info\n",
        "def output_info(input):\n",
        "\n",
        "  similar_doc = loaded_vector_db.similarity_search(input)[0].metadata\n",
        "  return extract_company_info(similar_doc ,input)\n",
        "\n",
        "# user_input = \"I recently had a great experience with Hassan Allam Holding company. I wonder what is their Annual Revenue?.\"\n",
        "# output_info(user_input)\n"
      ]
    },
    {
      "cell_type": "code",
      "execution_count": null,
      "metadata": {},
      "outputs": [],
      "source": []
    },
    {
      "cell_type": "code",
      "execution_count": null,
      "metadata": {},
      "outputs": [],
      "source": [
        "coverConversation.memory.clear()"
      ]
    },
    {
      "cell_type": "code",
      "execution_count": 57,
      "metadata": {},
      "outputs": [
        {
          "data": {
            "text/plain": [
              "[]"
            ]
          },
          "execution_count": 57,
          "metadata": {},
          "output_type": "execute_result"
        }
      ],
      "source": [
        "coverConversation.memory.chat_memory.messages"
      ]
    },
    {
      "cell_type": "code",
      "execution_count": 58,
      "metadata": {},
      "outputs": [
        {
          "data": {
            "text/plain": [
              "0"
            ]
          },
          "execution_count": 58,
          "metadata": {},
          "output_type": "execute_result"
        }
      ],
      "source": [
        "len(coverConversation.memory.chat_memory.messages)"
      ]
    },
    {
      "cell_type": "code",
      "execution_count": 59,
      "metadata": {},
      "outputs": [],
      "source": [
        "# messages=coverConversation.memory.chat_memory.messages"
      ]
    },
    {
      "cell_type": "code",
      "execution_count": 60,
      "metadata": {
        "colab": {
          "base_uri": "https://localhost:8080/",
          "height": 35
        },
        "id": "M4E59MSbKFpK",
        "outputId": "034a73a2-af96-4f30-f670-9efac885ec10"
      },
      "outputs": [],
      "source": [
        "# user_input2 = \"What are the number of workers of WUZZUF company\"\n",
        "# output_info(user_input2)"
      ]
    },
    {
      "cell_type": "markdown",
      "metadata": {
        "id": "apMXBx6dTwCC"
      },
      "source": []
    },
    {
      "cell_type": "markdown",
      "metadata": {
        "id": "Y_9OZ2BPTwCC"
      },
      "source": [
        "Rag from user's insertedFile"
      ]
    },
    {
      "cell_type": "markdown",
      "metadata": {},
      "source": [
        "query routing"
      ]
    },
    {
      "cell_type": "code",
      "execution_count": 61,
      "metadata": {},
      "outputs": [],
      "source": [
        "class RouteQuery(BaseModel): \n",
        "    \"\"\"Route a user query to the most relevant datasource.\"\"\" \n",
        "    templatetouse: Literal['chooseAtask',\"generateEmail\", \"modifyEmail\", \"generatecoverletter\",\"getcompanyinformation\",'changetime'] = \\\n",
        "    Field( ..., description=\"Given a user request choose which template would be most relevant for satisfying their request\", ) \n",
        "llm2 = ChatOpenAI(model=\"gpt-3.5-turbo-0125\", temperature=0)\n",
        "structured_llm = llm2.with_structured_output(RouteQuery)\n",
        "system1=\"you are a job helper system, I can help you with generating emails, modifying emails, generating cover letters, getting company information, and changing meeting times\"\n",
        "chatrouting = ChatPromptTemplate.from_messages( \n",
        "[ \n",
        "(\"system\", system1), \n",
        "(\"human\", \"{request}\"), \n",
        "] \n",
        ") \n",
        "router = chatrouting | structured_llm \n"
      ]
    },
    {
      "cell_type": "code",
      "execution_count": 62,
      "metadata": {},
      "outputs": [],
      "source": [
        "class routeQuery2(BaseModel):\n",
        "    fewshotbool: bool = Field( ..., description=\"Whether to use fewshot or not\", )\n",
        "structured_llm2=llm2.with_structured_output(routeQuery2)\n",
        "system2=\"your job is to determine whether to use fewshot or not\"\n",
        "fewshotrouting = ChatPromptTemplate.from_messages(\n",
        "    [\n",
        "        (\"system\", system2),\n",
        "        (\"human\", \"{request}\"),\n",
        "    ]\n",
        ")\n",
        "router2 = fewshotrouting | structured_llm2"
      ]
    },
    {
      "cell_type": "code",
      "execution_count": 63,
      "metadata": {},
      "outputs": [],
      "source": [
        "# testquery=\"yes use fewshot\" \n"
      ]
    },
    {
      "cell_type": "markdown",
      "metadata": {},
      "source": [
        "testing query routing"
      ]
    },
    {
      "cell_type": "code",
      "execution_count": null,
      "metadata": {},
      "outputs": [],
      "source": []
    },
    {
      "cell_type": "code",
      "execution_count": 64,
      "metadata": {},
      "outputs": [
        {
          "name": "stdout",
          "output_type": "stream",
          "text": [
            "<class 'str'>\n",
            "generateEmail\n",
            "fewshotbool=True\n",
            "<class 'bool'>\n"
          ]
        }
      ],
      "source": [
        "request1 = \"send email\"\n",
        "response=router.invoke({\"request\": request1})\n",
        "print(type(response.templatetouse))\n",
        "print(response.templatetouse)\n",
        "request2=\"yes use it\"\n",
        "response2=router2.invoke({\"request\":request2})\n",
        "print(response2)\n",
        "print(type(response2.fewshotbool))"
      ]
    },
    {
      "cell_type": "code",
      "execution_count": 65,
      "metadata": {
        "id": "7XWEmIduXlWo"
      },
      "outputs": [],
      "source": [
        "from tkinter import *\n",
        "import customtkinter as cm\n",
        "from tkinter import scrolledtext\n",
        "import threading\n",
        "\n",
        "cm.set_appearance_mode(\"dark\")\n",
        "cm.set_default_color_theme(\"dark-blue\")\n",
        "\n",
        "root = Tk()\n",
        "root.geometry(\"500x600\")\n",
        "root.title(\"LLM Project\")\n",
        "messagetype=0\n",
        "generatingMailSteps=modifyMailstep=coverletterstep=changetimestep=0\n",
        "\n",
        "subject=tmail=fmail=sender=receiver=None\n",
        "modsubject=Modbody=None\n",
        "job=company=covname=covfmail=covtmail=covreciver=None\n",
        "timetmail=timefmail=timesubject=timedate=None\n",
        "fewshotExamples=0\n",
        "examples=[]\n",
        "\n",
        "def modifyEmailSend(user_message):\n",
        "    global modsubject,modbody,messagetype,modifyMailstep\n",
        "    if modifyMailstep==1:\n",
        "        modsubject=user_message\n",
        "        return None\n",
        "    elif modifyMailstep==2:\n",
        "        modbody=user_message\n",
        "        modifyEmail=modifyMailTemp.format(part=modsubject,new_part=modbody)\n",
        "        modifyEmailResponse=llm.invoke(modifyEmail)\n",
        "        display_message(\"Bot\", modifyEmailResponse)\n",
        "        messagetype=0\n",
        "        modifyMailstep=0\n",
        "        return 'return to main menu'\n",
        "def modifyMailrespond():\n",
        "    global modifyMailstep\n",
        "    if modifyMailstep==0:\n",
        "        modifyMailstep=1\n",
        "        return \"what is subject of the email you want to modify\"\n",
        "    elif modifyMailstep==1:\n",
        "        modifyMailstep=2\n",
        "        return \"what is the body of email you want to modify\"\n",
        "def coverletterRespond():\n",
        "    global coverletterstep,fewshotExamples\n",
        "    if coverletterstep==0:\n",
        "        coverletterstep=1\n",
        "        return \"what is the job you are applying for\"\n",
        "    elif coverletterstep==1:\n",
        "        coverletterstep=2\n",
        "        return \"what is the company you are applying for\"\n",
        "    elif coverletterstep==2:\n",
        "        coverletterstep=3\n",
        "        return \"what is your name\"\n",
        "    elif coverletterstep==3:\n",
        "        coverletterstep=4\n",
        "        return \"what is your email\"\n",
        "    elif coverletterstep==4:\n",
        "        coverletterstep=5\n",
        "        return \"what is the recipient email\"\n",
        "    elif coverletterstep==5:\n",
        "        coverletterstep=6\n",
        "        return \"how many fewshot examples do you want from zero to hero\"\n",
        "    elif coverletterstep==6 or coverletterstep==7:\n",
        "        if fewshotExamples>0:\n",
        "            coverletterstep=7\n",
        "            fewshotExamples=fewshotExamples-1\n",
        "            return \"please provide another example\"\n",
        "        else:\n",
        "            coverletterstep=8\n",
        "            return \"write anything to generate the cover letter\"\n",
        "def coverletterSender(user_message):\n",
        "    global job,company,covname,covfmail,covtmail,covreciver,messagetype,coverletterstep,fewshotExamples\n",
        "    if coverletterstep==1:\n",
        "        job=user_message\n",
        "    elif coverletterstep==2:\n",
        "        company=user_message\n",
        "    elif coverletterstep==3:\n",
        "        covname=user_message\n",
        "    elif coverletterstep==4:\n",
        "        covfmail=user_message\n",
        "    elif coverletterstep==5:\n",
        "        covtmail=user_message\n",
        "    elif coverletterstep==6:\n",
        "        fewshotExamples=int(user_message)\n",
        "    elif coverletterstep==7:\n",
        "        example=user_message\n",
        "        examples.append({\"example\":example})\n",
        "    elif coverletterstep==8:\n",
        "        covershotprompt = FewShotPromptTemplate(\n",
        "    examples=examples,\n",
        "    example_prompt=example_prompt,\n",
        "    suffix=\"write a cover letter for the job of {job} at company: {company} with reciver:{reciver} and sender:{sender} and  and from email {fmail} to {Tmail} \\n{format_instructions}\",\n",
        "    input_variables=[\"input\"],\n",
        "    partial_variables={'format_instructions':parser.get_format_instructions()}\n",
        ")\n",
        "        covermessage=covershotprompt.format(job=job,company=company,sender=covname,fmail=covfmail,Tmail=covtmail,reciver=covreciver)\n",
        "        covermessageResponse=llm.invoke(covermessage)\n",
        "        parsedouput=parser.parse(covermessageResponse)\n",
        "        jsonparsed=parsedouput.dict()\n",
        "        jsonstring=json.dumps(jsonparsed)\n",
        "        with open('parsed_output.json', 'w') as json_file:\n",
        "            json_file.write(jsonstring)\n",
        "        display_message(\"Bot\", parsedouput.body)\n",
        "        messagetype=0\n",
        "        coverletterstep=0\n",
        "        return 'return to main menu'\n",
        "\n",
        "\n",
        "def changetimeSender(user_message):\n",
        "    global timetmail,timefmail,timesubject,timedate,messagetype,changetimestep\n",
        "    if changetimestep==1:\n",
        "        timetmail=user_message\n",
        "    elif changetimestep==2:\n",
        "        timefmail=user_message\n",
        "    elif changetimestep==3:\n",
        "        timesubject=user_message\n",
        "    elif changetimestep==4:\n",
        "        timedate=user_message\n",
        "        changeMeeting=changeorsetupmeetingTemp.format(Temail=timetmail,femail=timefmail,subject=timesubject,date=timedate)\n",
        "        changeMeetingResponse=llm.invoke(changeMeeting)\n",
        "        parsedouput=parser.parse(changeMeetingResponse)\n",
        "        display_message(\"Bot\", parsedouput.body)\n",
        "        messagetype=0\n",
        "        changetimestep=0\n",
        "        return 'return to main menu'\n",
        "def changetimeRespond():\n",
        "    global changetimestep\n",
        "    if changetimestep==0:\n",
        "        changetimestep=1\n",
        "        return \"what is the recipient email\"\n",
        "    elif changetimestep==1:\n",
        "        changetimestep=2\n",
        "        return \"what is the sender email\"\n",
        "    elif changetimestep==2:\n",
        "        changetimestep=3\n",
        "        return \"what is the email subject\"\n",
        "    elif changetimestep==3:\n",
        "        changetimestep=4\n",
        "        return \"what is the date of the meeting\"\n",
        "def send_message():\n",
        "    user_message = entry_message.get() # user enter his text\n",
        "    global messagetype\n",
        "    global subject, tmail, fmail, sender, receiver\n",
        "    global generatingMailSteps\n",
        "\n",
        "    if user_message.strip():\n",
        "        display_message(\"User\", user_message)  # Display user message first\n",
        "        entry_message.delete(0, END)# remove the entered text from the box\n",
        "\n",
        "        # Here you would include the logic to generate the response\n",
        "        # take the input from the user that match the corresponing step\n",
        "        # Note that the response generated in the final step\n",
        "\n",
        "        # we continue the work in modifyEmailSend by sending the new entered info \n",
        "        if messagetype == 1:\n",
        "            if generatingMailSteps == 1:\n",
        "                fmail = user_message\n",
        "            elif generatingMailSteps == 2:\n",
        "                tmail = user_message\n",
        "            elif generatingMailSteps == 3:\n",
        "                subject = user_message\n",
        "            elif generatingMailSteps == 4:\n",
        "                sender = user_message\n",
        "            elif generatingMailSteps == 5:\n",
        "                receiver = user_message\n",
        "                newmail = writingFromScratchTemp.format(\n",
        "                    subject=subject, Temail=tmail, femail=fmail, sender=sender, reciver=receiver)\n",
        "                newMailResponse = llm.invoke(newmail)\n",
        "                parsedouput = parser.parse(newMailResponse)\n",
        "                display_message(\"Bot\", parsedouput.body)\n",
        "                messagetype = 0\n",
        "                generatingMailSteps = 0\n",
        "        elif messagetype == 2:\n",
        "            returnedmodvar = modifyEmailSend(user_message)\n",
        "            if returnedmodvar is not None: # returnedmodvar = None because the body not inserted yet\n",
        "                user_message = returnedmodvar # returnedmodvar != None incase the task is ended will be 'return to main menu'\n",
        "        elif messagetype == 3:\n",
        "            returnedcovervar = coverletterSender(user_message)\n",
        "            if returnedcovervar is not None:\n",
        "                user_message = returnedcovervar\n",
        "        elif messagetype == 4:\n",
        "            returnedtimevar = changetimeSender(user_message)\n",
        "            if returnedtimevar is not None:\n",
        "                user_message = returnedtimevar\n",
        "\n",
        "        response = generate_response(user_message) # user_message sometimes be not effected as it just call the function based on the message type  \n",
        "        display_message(\"Bot\", response)\n",
        "\n",
        "def display_message(sender, message):\n",
        "    chat_area.config(state=NORMAL)\n",
        "    # chat_area.insert(END, f\"{sender}: {message}\\n\")\n",
        "    if sender == \"User\":      \n",
        "        message_frame = Frame(chat_area, bg=\"#235ded\", bd=0)\n",
        "        Label(message_frame, text=message, bg=\"#235ded\", fg=\"white\", font=(\"Helvetica\", 12), wraplength=1250, anchor=\"w\",justify=LEFT).pack(padx=5, pady=5, side=RIGHT)\n",
        "        chat_area.window_create(END, window=message_frame)\n",
        "        chat_area.insert(END, \"\\n\")\n",
        "        chat_area.tag_add(\"user_tag\", \"end-2l\", \"end-1l\")  # This helps to tag the last inserted message.\n",
        "        chat_area.tag_configure(\"user_tag\", justify='right')  # Align the user's message to the right\n",
        "    else:\n",
        "        message_frame = Frame(chat_area, bg=\"#414141\", bd=0)\n",
        "        Label(message_frame, text=message, bg=\"#414141\", fg=\"#C6CCD1\", font=(\"Helvetica\", 12), wraplength=1250, anchor=\"w\", justify=LEFT).pack(padx=5, pady=5, anchor=\"w\")\n",
        "        chat_area.window_create(END, window=message_frame)\n",
        "        chat_area.insert(END, \"\\n\")\n",
        "    chat_area.config(state=DISABLED)\n",
        "    chat_area.yview(END)\n",
        "\n",
        "def generate_response(message):\n",
        "    global messagetype\n",
        "    global generatingMailSteps\n",
        "    global modifyMailstep\n",
        "    global coverletterstep\n",
        "    if message=='exist':# user message is exist not None then you need to detect a problem\n",
        "        messagetype=0\n",
        "    # It's a switch to choose a task from the 5 tasks\n",
        "    # messagetypes refer to:\n",
        "    # 0- there is no task to be achieved \n",
        "    # 1- generate email and the rest of this task in the same function\n",
        "    # 2- modify an email\n",
        "    # 3- genreate cover letter\n",
        "    # case : getcompanyinformation, it just show the wanted info\n",
        "    # 4- change meeting time\n",
        "    # case : can't determine the user request.\n",
        "    if messagetype==0:\n",
        "\n",
        "        requesttypeString=router.invoke({\"request\": message})\n",
        "        if requesttypeString.templatetouse==\"chooseAtask\":\n",
        "            messagetype=0\n",
        "            return \"I can help you with generating emails, modifying emails, generating cover letters, getting company information, and changing meeting times\"\n",
        "        elif requesttypeString.templatetouse==\"generateEmail\":\n",
        "            messagetype=1\n",
        "            generatingMailSteps=1\n",
        "            return \"what is your email\"\n",
        "        elif requesttypeString.templatetouse==\"modifyEmail\":\n",
        "            # if the message type 2 you just continue your work in the modifyMailrespond function\n",
        "            messagetype=2\n",
        "            modifyMailstep=0\n",
        "            return modifyMailrespond()\n",
        "        elif requesttypeString.templatetouse==\"generatecoverletter\":\n",
        "            messagetype=3\n",
        "            coverletterstep=1\n",
        "            return \"what is the job you are applying for\"\n",
        "        elif requesttypeString.templatetouse==\"getcompanyinformation\":\n",
        "            display_message(\"Bot\", output_info(message))\n",
        "            return 'can I help you with anything else'\n",
        "        elif requesttypeString.templatetouse==\"changetime\":\n",
        "            messagetype=4\n",
        "            # changetimestep=0\n",
        "            return changetimeRespond()\n",
        "        else:\n",
        "            return \"!!!!\"\n",
        "    if messagetype==1:\n",
        "        if generatingMailSteps==0:\n",
        "            generatingMailSteps=1\n",
        "            return \"what is your email\"\n",
        "        elif generatingMailSteps==1:\n",
        "            generatingMailSteps=2\n",
        "            return \"what is the recipient email\"\n",
        "        elif generatingMailSteps==2:\n",
        "            generatingMailSteps=3\n",
        "            return \"what is the email subject\"\n",
        "        elif generatingMailSteps==3:\n",
        "            generatingMailSteps=4\n",
        "            return \"what is the name of the sender\"\n",
        "        elif generatingMailSteps==4:\n",
        "            generatingMailSteps=5\n",
        "            return \"what is the name of the recipient\"\n",
        "    # if the message type 2 you just continue your work in the modifyMailrespond function\n",
        "    elif messagetype==2:\n",
        "        return modifyMailrespond()\n",
        "    elif messagetype==3:\n",
        "        return coverletterRespond()\n",
        "    elif messagetype==4:\n",
        "        return changetimeRespond()\n",
        "    return response\n",
        "\n",
        "frame = cm.CTkFrame(master=root)\n",
        "frame.pack(pady=10, padx=10, fill=\"both\", expand=True)\n",
        "\n",
        "label = cm.CTkLabel(master=frame, text=\"Elegant Writer\", font=(\"Helvetica\", 20, \"bold\"))\n",
        "label.pack(pady=10, padx=10)\n",
        "\n",
        "chat_area = Text(frame, wrap=WORD, state=DISABLED, font=(\"Helvetica\", 12), bg=\"#2b2b2b\", fg=\"white\", insertbackground=\"white\")\n",
        "chat_area.pack(pady=10, padx=10, fill=BOTH, expand=True)\n",
        "\n",
        "entry_frame = cm.CTkFrame(master=frame, fg_color=None)\n",
        "entry_frame.pack(pady=10, padx=10, fill=X, expand=False)\n",
        "\n",
        "entry_message = cm.CTkEntry(master=entry_frame, placeholder_text=\"Type your message here...\", font=(\"Helvetica\", 12))\n",
        "entry_message.pack(side=LEFT, pady=5, padx=5, fill=X, expand=True)\n",
        "entry_message.bind(\"<Return>\", lambda event: send_message())\n",
        "\n",
        "send_button = cm.CTkButton(master=entry_frame, text=\"Send\", command=send_message, fg_color=\"#235ded\", font=(\"Helvetica\", 12, \"bold\"))\n",
        "send_button.pack(side=RIGHT, pady=10, padx=10)\n",
        "display_message(\"Bot\", \"Hey there! How can I assist you today?\")\n",
        "display_message(\"Bot\", \"I can help you with generating emails, modifying emails, generating cover letters, getting company information, and changing meeting times\")\n",
        "\n",
        "root.mainloop()"
      ]
    },
    {
      "cell_type": "markdown",
      "metadata": {
        "id": "hh2zuHAtTwCC"
      },
      "source": []
    },
    {
      "cell_type": "markdown",
      "metadata": {},
      "source": []
    },
    {
      "cell_type": "markdown",
      "metadata": {},
      "source": []
    },
    {
      "cell_type": "markdown",
      "metadata": {},
      "source": []
    },
    {
      "cell_type": "markdown",
      "metadata": {},
      "source": []
    },
    {
      "cell_type": "markdown",
      "metadata": {},
      "source": []
    },
    {
      "cell_type": "markdown",
      "metadata": {},
      "source": []
    }
  ],
  "metadata": {
    "colab": {
      "provenance": []
    },
    "kernelspec": {
      "display_name": "Python 3",
      "language": "python",
      "name": "python3"
    },
    "language_info": {
      "codemirror_mode": {
        "name": "ipython",
        "version": 3
      },
      "file_extension": ".py",
      "mimetype": "text/x-python",
      "name": "python",
      "nbconvert_exporter": "python",
      "pygments_lexer": "ipython3",
      "version": "3.10.11"
    },
    "widgets": {
      "application/vnd.jupyter.widget-state+json": {
        "0b9bb063984a4068a999b9d29eae2353": {
          "model_module": "@jupyter-widgets/base",
          "model_module_version": "1.2.0",
          "model_name": "LayoutModel",
          "state": {
            "_model_module": "@jupyter-widgets/base",
            "_model_module_version": "1.2.0",
            "_model_name": "LayoutModel",
            "_view_count": null,
            "_view_module": "@jupyter-widgets/base",
            "_view_module_version": "1.2.0",
            "_view_name": "LayoutView",
            "align_content": null,
            "align_items": null,
            "align_self": null,
            "border": null,
            "bottom": null,
            "display": null,
            "flex": null,
            "flex_flow": null,
            "grid_area": null,
            "grid_auto_columns": null,
            "grid_auto_flow": null,
            "grid_auto_rows": null,
            "grid_column": null,
            "grid_gap": null,
            "grid_row": null,
            "grid_template_areas": null,
            "grid_template_columns": null,
            "grid_template_rows": null,
            "height": null,
            "justify_content": null,
            "justify_items": null,
            "left": null,
            "margin": null,
            "max_height": null,
            "max_width": null,
            "min_height": null,
            "min_width": null,
            "object_fit": null,
            "object_position": null,
            "order": null,
            "overflow": null,
            "overflow_x": null,
            "overflow_y": null,
            "padding": null,
            "right": null,
            "top": null,
            "visibility": null,
            "width": null
          }
        },
        "2264db6f73714c4ab03d36b7b62ea055": {
          "model_module": "@jupyter-widgets/controls",
          "model_module_version": "1.5.0",
          "model_name": "ButtonModel",
          "state": {
            "_dom_classes": [],
            "_model_module": "@jupyter-widgets/controls",
            "_model_module_version": "1.5.0",
            "_model_name": "ButtonModel",
            "_view_count": null,
            "_view_module": "@jupyter-widgets/controls",
            "_view_module_version": "1.5.0",
            "_view_name": "ButtonView",
            "button_style": "",
            "description": "Calculate Sum",
            "disabled": false,
            "icon": "",
            "layout": "IPY_MODEL_8b9edc82fa7f4a92bb10b3f2380fd9d6",
            "style": "IPY_MODEL_d5523b839ed14705b4c3cf912042f612",
            "tooltip": ""
          }
        },
        "2a4e3f6422a04a1a915b2ea8479318b6": {
          "model_module": "@jupyter-widgets/controls",
          "model_module_version": "1.5.0",
          "model_name": "FloatTextModel",
          "state": {
            "_dom_classes": [],
            "_model_module": "@jupyter-widgets/controls",
            "_model_module_version": "1.5.0",
            "_model_name": "FloatTextModel",
            "_view_count": null,
            "_view_module": "@jupyter-widgets/controls",
            "_view_module_version": "1.5.0",
            "_view_name": "FloatTextView",
            "continuous_update": false,
            "description": "Input 1:",
            "description_tooltip": null,
            "disabled": false,
            "layout": "IPY_MODEL_cabbc66435204e0b8cc38bddb3c30bdb",
            "step": null,
            "style": "IPY_MODEL_361e4ebee6404a27a57a15d5c76db155",
            "value": 5
          }
        },
        "361e4ebee6404a27a57a15d5c76db155": {
          "model_module": "@jupyter-widgets/controls",
          "model_module_version": "1.5.0",
          "model_name": "DescriptionStyleModel",
          "state": {
            "_model_module": "@jupyter-widgets/controls",
            "_model_module_version": "1.5.0",
            "_model_name": "DescriptionStyleModel",
            "_view_count": null,
            "_view_module": "@jupyter-widgets/base",
            "_view_module_version": "1.2.0",
            "_view_name": "StyleView",
            "description_width": ""
          }
        },
        "67864ec3e7004db8adb57fbf76a9c51f": {
          "model_module": "@jupyter-widgets/controls",
          "model_module_version": "1.5.0",
          "model_name": "FloatTextModel",
          "state": {
            "_dom_classes": [],
            "_model_module": "@jupyter-widgets/controls",
            "_model_module_version": "1.5.0",
            "_model_name": "FloatTextModel",
            "_view_count": null,
            "_view_module": "@jupyter-widgets/controls",
            "_view_module_version": "1.5.0",
            "_view_name": "FloatTextView",
            "continuous_update": false,
            "description": "Input 3:",
            "description_tooltip": null,
            "disabled": false,
            "layout": "IPY_MODEL_81e85b9099254601b5a1c96ca964df0c",
            "step": null,
            "style": "IPY_MODEL_8f36fade90bc4781b7bc0e0a159c02d6",
            "value": 4
          }
        },
        "6817926d712b450eb3a06fe602f1de1a": {
          "model_module": "@jupyter-widgets/output",
          "model_module_version": "1.0.0",
          "model_name": "OutputModel",
          "state": {
            "_dom_classes": [],
            "_model_module": "@jupyter-widgets/output",
            "_model_module_version": "1.0.0",
            "_model_name": "OutputModel",
            "_view_count": null,
            "_view_module": "@jupyter-widgets/output",
            "_view_module_version": "1.0.0",
            "_view_name": "OutputView",
            "layout": "IPY_MODEL_0b9bb063984a4068a999b9d29eae2353",
            "msg_id": "",
            "outputs": [
              {
                "name": "stdout",
                "output_type": "stream",
                "text": [
                  "The sum of the inputs is: 20.0\n"
                ]
              }
            ]
          }
        },
        "75d9cb3b64b64c48bc5f1c85a6f58edd": {
          "model_module": "@jupyter-widgets/controls",
          "model_module_version": "1.5.0",
          "model_name": "DescriptionStyleModel",
          "state": {
            "_model_module": "@jupyter-widgets/controls",
            "_model_module_version": "1.5.0",
            "_model_name": "DescriptionStyleModel",
            "_view_count": null,
            "_view_module": "@jupyter-widgets/base",
            "_view_module_version": "1.2.0",
            "_view_name": "StyleView",
            "description_width": ""
          }
        },
        "81e85b9099254601b5a1c96ca964df0c": {
          "model_module": "@jupyter-widgets/base",
          "model_module_version": "1.2.0",
          "model_name": "LayoutModel",
          "state": {
            "_model_module": "@jupyter-widgets/base",
            "_model_module_version": "1.2.0",
            "_model_name": "LayoutModel",
            "_view_count": null,
            "_view_module": "@jupyter-widgets/base",
            "_view_module_version": "1.2.0",
            "_view_name": "LayoutView",
            "align_content": null,
            "align_items": null,
            "align_self": null,
            "border": null,
            "bottom": null,
            "display": null,
            "flex": null,
            "flex_flow": null,
            "grid_area": null,
            "grid_auto_columns": null,
            "grid_auto_flow": null,
            "grid_auto_rows": null,
            "grid_column": null,
            "grid_gap": null,
            "grid_row": null,
            "grid_template_areas": null,
            "grid_template_columns": null,
            "grid_template_rows": null,
            "height": null,
            "justify_content": null,
            "justify_items": null,
            "left": null,
            "margin": null,
            "max_height": null,
            "max_width": null,
            "min_height": null,
            "min_width": null,
            "object_fit": null,
            "object_position": null,
            "order": null,
            "overflow": null,
            "overflow_x": null,
            "overflow_y": null,
            "padding": null,
            "right": null,
            "top": null,
            "visibility": null,
            "width": null
          }
        },
        "85a786c1e5f64be5bec991501e8cd2ec": {
          "model_module": "@jupyter-widgets/controls",
          "model_module_version": "1.5.0",
          "model_name": "DescriptionStyleModel",
          "state": {
            "_model_module": "@jupyter-widgets/controls",
            "_model_module_version": "1.5.0",
            "_model_name": "DescriptionStyleModel",
            "_view_count": null,
            "_view_module": "@jupyter-widgets/base",
            "_view_module_version": "1.2.0",
            "_view_name": "StyleView",
            "description_width": ""
          }
        },
        "8b9edc82fa7f4a92bb10b3f2380fd9d6": {
          "model_module": "@jupyter-widgets/base",
          "model_module_version": "1.2.0",
          "model_name": "LayoutModel",
          "state": {
            "_model_module": "@jupyter-widgets/base",
            "_model_module_version": "1.2.0",
            "_model_name": "LayoutModel",
            "_view_count": null,
            "_view_module": "@jupyter-widgets/base",
            "_view_module_version": "1.2.0",
            "_view_name": "LayoutView",
            "align_content": null,
            "align_items": null,
            "align_self": null,
            "border": null,
            "bottom": null,
            "display": null,
            "flex": null,
            "flex_flow": null,
            "grid_area": null,
            "grid_auto_columns": null,
            "grid_auto_flow": null,
            "grid_auto_rows": null,
            "grid_column": null,
            "grid_gap": null,
            "grid_row": null,
            "grid_template_areas": null,
            "grid_template_columns": null,
            "grid_template_rows": null,
            "height": null,
            "justify_content": null,
            "justify_items": null,
            "left": null,
            "margin": null,
            "max_height": null,
            "max_width": null,
            "min_height": null,
            "min_width": null,
            "object_fit": null,
            "object_position": null,
            "order": null,
            "overflow": null,
            "overflow_x": null,
            "overflow_y": null,
            "padding": null,
            "right": null,
            "top": null,
            "visibility": null,
            "width": null
          }
        },
        "8f36fade90bc4781b7bc0e0a159c02d6": {
          "model_module": "@jupyter-widgets/controls",
          "model_module_version": "1.5.0",
          "model_name": "DescriptionStyleModel",
          "state": {
            "_model_module": "@jupyter-widgets/controls",
            "_model_module_version": "1.5.0",
            "_model_name": "DescriptionStyleModel",
            "_view_count": null,
            "_view_module": "@jupyter-widgets/base",
            "_view_module_version": "1.2.0",
            "_view_name": "StyleView",
            "description_width": ""
          }
        },
        "959c225eab8e4777adaaa221aa44ddc3": {
          "model_module": "@jupyter-widgets/controls",
          "model_module_version": "1.5.0",
          "model_name": "FloatTextModel",
          "state": {
            "_dom_classes": [],
            "_model_module": "@jupyter-widgets/controls",
            "_model_module_version": "1.5.0",
            "_model_name": "FloatTextModel",
            "_view_count": null,
            "_view_module": "@jupyter-widgets/controls",
            "_view_module_version": "1.5.0",
            "_view_name": "FloatTextView",
            "continuous_update": false,
            "description": "Input 2:",
            "description_tooltip": null,
            "disabled": false,
            "layout": "IPY_MODEL_ddb8714fe79246b9af632623203e8894",
            "step": null,
            "style": "IPY_MODEL_85a786c1e5f64be5bec991501e8cd2ec",
            "value": 5
          }
        },
        "a83590f16a9a4549bdc5133937eadea0": {
          "model_module": "@jupyter-widgets/controls",
          "model_module_version": "1.5.0",
          "model_name": "FloatTextModel",
          "state": {
            "_dom_classes": [],
            "_model_module": "@jupyter-widgets/controls",
            "_model_module_version": "1.5.0",
            "_model_name": "FloatTextModel",
            "_view_count": null,
            "_view_module": "@jupyter-widgets/controls",
            "_view_module_version": "1.5.0",
            "_view_name": "FloatTextView",
            "continuous_update": false,
            "description": "Input 4:",
            "description_tooltip": null,
            "disabled": false,
            "layout": "IPY_MODEL_f4f2fea1d8d34c4eabdf34a674a288b0",
            "step": null,
            "style": "IPY_MODEL_75d9cb3b64b64c48bc5f1c85a6f58edd",
            "value": 6
          }
        },
        "cabbc66435204e0b8cc38bddb3c30bdb": {
          "model_module": "@jupyter-widgets/base",
          "model_module_version": "1.2.0",
          "model_name": "LayoutModel",
          "state": {
            "_model_module": "@jupyter-widgets/base",
            "_model_module_version": "1.2.0",
            "_model_name": "LayoutModel",
            "_view_count": null,
            "_view_module": "@jupyter-widgets/base",
            "_view_module_version": "1.2.0",
            "_view_name": "LayoutView",
            "align_content": null,
            "align_items": null,
            "align_self": null,
            "border": null,
            "bottom": null,
            "display": null,
            "flex": null,
            "flex_flow": null,
            "grid_area": null,
            "grid_auto_columns": null,
            "grid_auto_flow": null,
            "grid_auto_rows": null,
            "grid_column": null,
            "grid_gap": null,
            "grid_row": null,
            "grid_template_areas": null,
            "grid_template_columns": null,
            "grid_template_rows": null,
            "height": null,
            "justify_content": null,
            "justify_items": null,
            "left": null,
            "margin": null,
            "max_height": null,
            "max_width": null,
            "min_height": null,
            "min_width": null,
            "object_fit": null,
            "object_position": null,
            "order": null,
            "overflow": null,
            "overflow_x": null,
            "overflow_y": null,
            "padding": null,
            "right": null,
            "top": null,
            "visibility": null,
            "width": null
          }
        },
        "d5523b839ed14705b4c3cf912042f612": {
          "model_module": "@jupyter-widgets/controls",
          "model_module_version": "1.5.0",
          "model_name": "ButtonStyleModel",
          "state": {
            "_model_module": "@jupyter-widgets/controls",
            "_model_module_version": "1.5.0",
            "_model_name": "ButtonStyleModel",
            "_view_count": null,
            "_view_module": "@jupyter-widgets/base",
            "_view_module_version": "1.2.0",
            "_view_name": "StyleView",
            "button_color": null,
            "font_weight": ""
          }
        },
        "ddb8714fe79246b9af632623203e8894": {
          "model_module": "@jupyter-widgets/base",
          "model_module_version": "1.2.0",
          "model_name": "LayoutModel",
          "state": {
            "_model_module": "@jupyter-widgets/base",
            "_model_module_version": "1.2.0",
            "_model_name": "LayoutModel",
            "_view_count": null,
            "_view_module": "@jupyter-widgets/base",
            "_view_module_version": "1.2.0",
            "_view_name": "LayoutView",
            "align_content": null,
            "align_items": null,
            "align_self": null,
            "border": null,
            "bottom": null,
            "display": null,
            "flex": null,
            "flex_flow": null,
            "grid_area": null,
            "grid_auto_columns": null,
            "grid_auto_flow": null,
            "grid_auto_rows": null,
            "grid_column": null,
            "grid_gap": null,
            "grid_row": null,
            "grid_template_areas": null,
            "grid_template_columns": null,
            "grid_template_rows": null,
            "height": null,
            "justify_content": null,
            "justify_items": null,
            "left": null,
            "margin": null,
            "max_height": null,
            "max_width": null,
            "min_height": null,
            "min_width": null,
            "object_fit": null,
            "object_position": null,
            "order": null,
            "overflow": null,
            "overflow_x": null,
            "overflow_y": null,
            "padding": null,
            "right": null,
            "top": null,
            "visibility": null,
            "width": null
          }
        },
        "f4f2fea1d8d34c4eabdf34a674a288b0": {
          "model_module": "@jupyter-widgets/base",
          "model_module_version": "1.2.0",
          "model_name": "LayoutModel",
          "state": {
            "_model_module": "@jupyter-widgets/base",
            "_model_module_version": "1.2.0",
            "_model_name": "LayoutModel",
            "_view_count": null,
            "_view_module": "@jupyter-widgets/base",
            "_view_module_version": "1.2.0",
            "_view_name": "LayoutView",
            "align_content": null,
            "align_items": null,
            "align_self": null,
            "border": null,
            "bottom": null,
            "display": null,
            "flex": null,
            "flex_flow": null,
            "grid_area": null,
            "grid_auto_columns": null,
            "grid_auto_flow": null,
            "grid_auto_rows": null,
            "grid_column": null,
            "grid_gap": null,
            "grid_row": null,
            "grid_template_areas": null,
            "grid_template_columns": null,
            "grid_template_rows": null,
            "height": null,
            "justify_content": null,
            "justify_items": null,
            "left": null,
            "margin": null,
            "max_height": null,
            "max_width": null,
            "min_height": null,
            "min_width": null,
            "object_fit": null,
            "object_position": null,
            "order": null,
            "overflow": null,
            "overflow_x": null,
            "overflow_y": null,
            "padding": null,
            "right": null,
            "top": null,
            "visibility": null,
            "width": null
          }
        }
      }
    }
  },
  "nbformat": 4,
  "nbformat_minor": 0
}
